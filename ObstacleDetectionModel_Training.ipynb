{
 "cells": [
  {
   "cell_type": "markdown",
   "metadata": {},
   "source": [
    "# Obstacle Detection Model Traning"
   ]
  },
  {
   "cell_type": "markdown",
   "metadata": {},
   "source": [
    "<table class=\"tfo-notebook-buttons\" align=\"left\"><td>\n",
    "<a target=\"_blank\"  href=\"https://colab.research.google.com/drive/1cc4HbLNAX7AsDzrtEANymjlxrHHrvNIn#scrollTo=cl79rk4KKol8\">\n",
    "    <img src=\"https://www.tensorflow.org/images/colab_logo_32px.png\" />Run in Google Colab</a>  \n",
    "</td><td>\n",
    "<a target=\"_blank\"  href=\"https://github.com/tamasino52/Railway_Obstacle_Detection\"><img width=32px src=\"https://www.tensorflow.org/images/GitHub-Mark-32px.png\" />View source on GitHub</a></td></table>"
   ]
  },
  {
   "cell_type": "markdown",
   "metadata": {},
   "source": [
    "# Project General Outline in Korean"
   ]
  },
  {
   "cell_type": "markdown",
   "metadata": {},
   "source": [
    "이 프로젝트는 **숭실대학교** 컴퓨터비전 연구를 위해 스파르탄SW사업의 지원을 받아 진행 중인 과제입니다. 프로젝트의 목적은 실전에서 당면한 과제를 다양한 딥러닝 모델을 사용함으로써 문제해결 능력과 모델에 대한 이해를 향상시키는 데에 있습니다.\n",
    " \n",
    " 저희의 연구 주제는 **열차 전면부에 카메라를 설치하여 선로와 장애물을 탐지하는 것**이며. 탐지한 해당 장애물이 선로 위에 있으며 충돌 시 심각한 인명피해나 장비손상이 발생할 여지가 있는 무시할 수 없는 장애물일 때 기관사에게 신호를 보내 인명 및 재산 피해를 최소화하는 시스템을 기획하였습니다. 이를 위하여 선로의 이미지와 마스킹 된 데이터를 학습시켜  **Segmentation** 모델을 만든 후, **Object detection**을 통해 무시할 수 있는 장애물과 무시할 수 없는 장애물을 선별한 뒤 해당 장애물의 중심부와 선로 사이의 거리를 계산하였습니다.\n",
    "\n",
    " 학습에 사용된 데이터는 선로와 기차 모형을 준비하여 통제된 환경에서 촬영한 데이터를 사용하였습니다. 저희의 궁극적인 목표는 임의의 장애물이 감지되었을 때에도 이를 감지하여 기관사에게 신호를 보내는 것이지만, 이 프로젝트의 경우 실제 상용화를 위한 것이 아닌 시연을 목적으로 제작되었기 때문에 경제적인 측면을 고려하여 사전에 선별된 몇 가지의 장애물만을 학습시켜 통제된 환경에서 시연을 할 수 있도록만 계획하였습니다. 또한 사용된 데이터의 가짓수가 적기 때문에 다양한 방식으로 데이터를 **Augmentation** 하였습니다.\n",
    " \n",
    " 학습에 사용된 모델은 **Faster-RCNN-Inception-V2** 를 사용하였습니다.\n",
    " \n",
    " 저희는 모델 설계를 위해 EdjeElectronics의 코드를 일부 사용하였습니다. 원작자의 깃허브 코드 주소는 아래와 같습니다.\n",
    "https://github.com/EdjeElectronics/TensorFlow-Object-Detection-API-Tutorial-Train-Multiple-Objects-Windows-10\n",
    " \n",
    " ### 작업 순서:\n",
    "1. Setting for training\n",
    "2. Training\n",
    "\n",
    "**예상학습시간**: 8시간\n",
    "\n",
    "By: 김민석, 숭실대학교 소프트웨어학부 / \n",
    "이주희, 숭실대학교 소프트웨어학부"
   ]
  },
  {
   "cell_type": "markdown",
   "metadata": {},
   "source": [
    "# Project General Outline in English "
   ]
  },
  {
   "cell_type": "markdown",
   "metadata": {},
   "source": [
    "This project is an ongoing project with the support of Spartan SW project to study **Computer Vision of Soongsil University**. The objective of the project is to improve problem resolution and understanding of the model by using a variety of deep learning models to meet the challenges faced in the field.\n",
    "\n",
    "**Our topic is to install a camera on the front of the train to detect tracks and obstacles.** The system is designed to minimize casualties and property damage by sending a signal to the engineer when the detected obstacle is on the track and there is a possibility of serious casualties or equipment damage in the event of a collision. For this purpose, the image of the track and the masked data were studied to create a **Segmentation Model**. Also we selected **Object Detection Deep Learning Model** to recognize obstacle.\n",
    "\n",
    "The data used for learning was prepared with track and train models and taken in a controlled environment. Our ultimate goal is to detect and signal the driver, even when any obstacles are detected, but because this project was designed for demonstration rather than for actual commercialization, we planned to learn only a few pre-selected obstacles and demonstrate them in a controlled environment. And because the number of used data is low, we've use **Augmentation** it in a variety of ways.\n",
    "\n",
    "Also, the model we used is **Faster-RCNN-Inception-V2** model.\n",
    "\n",
    "We used some of EdjeElectronics's code to design the model. The original author's Githeub code address is as follows.\n",
    "\n",
    "https://github.com/EdjeElectronics/TensorFlow-Object-Detection-API-Tutorial-Train-Multiple-Objects-Windows-10\n",
    "    \n",
    "### We will follow the general workflow:\n",
    "1. Setting for training\n",
    "2. Training\n",
    "\n",
    "\n",
    "**Time Estimated**: 8 hours\n",
    "\n",
    "By: Kim Minseok, Department of Software in Soongsil University / \n",
    " Lee Juhui, Department of Software in Soongsil University\n"
   ]
  },
  {
   "cell_type": "markdown",
   "metadata": {},
   "source": [
    "# Setting for training"
   ]
  },
  {
   "cell_type": "markdown",
   "metadata": {},
   "source": [
    "Our project based on **anaconda, tensorflow-gpu, jupyter notebook** and etc. So you have to install these first.\n",
    "Also, I made this project on **CUDA 10.0** and **cuDNN 7.3** environment. If you install another version, I don't warrant about result.\n",
    "I recommand to activate this code on virtual anaconda setting."
   ]
  },
  {
   "cell_type": "code",
   "execution_count": 2,
   "metadata": {},
   "outputs": [
    {
     "name": "stdout",
     "output_type": "stream",
     "text": [
      "Collecting package metadata (repodata.json): ...working... done\n",
      "Solving environment: ...working... done\n",
      "\n",
      "# All requested packages already installed.\n",
      "\n",
      "Collecting tensorflow-gpu\n",
      "  Using cached https://files.pythonhosted.org/packages/81/d1/9222b9aac2fa27dccaef38917cde84c24888f3cd0dd139c7e12be9f49a7a/tensorflow_gpu-1.14.0-cp37-cp37m-win_amd64.whl\n",
      "Collecting google-pasta>=0.1.6 (from tensorflow-gpu)\n",
      "  Using cached https://files.pythonhosted.org/packages/d0/33/376510eb8d6246f3c30545f416b2263eee461e40940c2a4413c711bdf62d/google_pasta-0.1.7-py3-none-any.whl\n",
      "Collecting absl-py>=0.7.0 (from tensorflow-gpu)\n",
      "Collecting tensorboard<1.15.0,>=1.14.0 (from tensorflow-gpu)\n",
      "  Using cached https://files.pythonhosted.org/packages/91/2d/2ed263449a078cd9c8a9ba50ebd50123adf1f8cfbea1492f9084169b89d9/tensorboard-1.14.0-py3-none-any.whl\n",
      "Collecting tensorflow-estimator<1.15.0rc0,>=1.14.0rc0 (from tensorflow-gpu)\n",
      "  Using cached https://files.pythonhosted.org/packages/3c/d5/21860a5b11caf0678fbc8319341b0ae21a07156911132e0e71bffed0510d/tensorflow_estimator-1.14.0-py2.py3-none-any.whl\n",
      "Collecting protobuf>=3.6.1 (from tensorflow-gpu)\n",
      "  Downloading https://files.pythonhosted.org/packages/46/8b/5e77963dac4a944a0c6b198c004fac4c85d7adc54221c288fc6ca9078072/protobuf-3.9.1-cp37-cp37m-win_amd64.whl (1.0MB)\n",
      "Collecting six>=1.10.0 (from tensorflow-gpu)\n",
      "  Using cached https://files.pythonhosted.org/packages/73/fb/00a976f728d0d1fecfe898238ce23f502a721c0ac0ecfedb80e0d88c64e9/six-1.12.0-py2.py3-none-any.whl\n",
      "Collecting wrapt>=1.11.1 (from tensorflow-gpu)\n",
      "Collecting keras-preprocessing>=1.0.5 (from tensorflow-gpu)\n",
      "  Using cached https://files.pythonhosted.org/packages/28/6a/8c1f62c37212d9fc441a7e26736df51ce6f0e38455816445471f10da4f0a/Keras_Preprocessing-1.1.0-py2.py3-none-any.whl\n",
      "Collecting numpy<2.0,>=1.14.5 (from tensorflow-gpu)\n",
      "  Downloading https://files.pythonhosted.org/packages/26/26/73ba03b2206371cdef62afebb877e9ba90a1f0dc3d9de22680a3970f5a50/numpy-1.17.0-cp37-cp37m-win_amd64.whl (12.8MB)\n",
      "Collecting wheel>=0.26 (from tensorflow-gpu)\n",
      "  Using cached https://files.pythonhosted.org/packages/bb/10/44230dd6bf3563b8f227dbf344c908d412ad2ff48066476672f3a72e174e/wheel-0.33.4-py2.py3-none-any.whl\n",
      "Collecting astor>=0.6.0 (from tensorflow-gpu)\n",
      "  Using cached https://files.pythonhosted.org/packages/d1/4f/950dfae467b384fc96bc6469de25d832534f6b4441033c39f914efd13418/astor-0.8.0-py2.py3-none-any.whl\n",
      "Collecting keras-applications>=1.0.6 (from tensorflow-gpu)\n",
      "  Using cached https://files.pythonhosted.org/packages/71/e3/19762fdfc62877ae9102edf6342d71b28fbfd9dea3d2f96a882ce099b03f/Keras_Applications-1.0.8-py3-none-any.whl\n",
      "Collecting gast>=0.2.0 (from tensorflow-gpu)\n",
      "Collecting grpcio>=1.8.6 (from tensorflow-gpu)\n",
      "  Using cached https://files.pythonhosted.org/packages/7a/f5/fe046577387a3589ab3092096ca423fcf9a8c7ac876f56c6f3b4c9b9e533/grpcio-1.22.0-cp37-cp37m-win_amd64.whl\n",
      "Collecting termcolor>=1.1.0 (from tensorflow-gpu)\n",
      "Collecting markdown>=2.6.8 (from tensorboard<1.15.0,>=1.14.0->tensorflow-gpu)\n",
      "  Using cached https://files.pythonhosted.org/packages/c0/4e/fd492e91abdc2d2fcb70ef453064d980688762079397f779758e055f6575/Markdown-3.1.1-py2.py3-none-any.whl\n",
      "Collecting werkzeug>=0.11.15 (from tensorboard<1.15.0,>=1.14.0->tensorflow-gpu)\n",
      "  Using cached https://files.pythonhosted.org/packages/d1/ab/d3bed6b92042622d24decc7aadc8877badf18aeca1571045840ad4956d3f/Werkzeug-0.15.5-py2.py3-none-any.whl\n",
      "Collecting setuptools>=41.0.0 (from tensorboard<1.15.0,>=1.14.0->tensorflow-gpu)\n",
      "  Using cached https://files.pythonhosted.org/packages/ec/51/f45cea425fd5cb0b0380f5b0f048ebc1da5b417e48d304838c02d6288a1e/setuptools-41.0.1-py2.py3-none-any.whl\n",
      "Collecting h5py (from keras-applications>=1.0.6->tensorflow-gpu)\n",
      "  Using cached https://files.pythonhosted.org/packages/4f/1e/89aa610afce8df6fd1f12647600a05e902238587ae6375442a3164b59d51/h5py-2.9.0-cp37-cp37m-win_amd64.whl\n",
      "Installing collected packages: google-pasta, six, absl-py, numpy, setuptools, markdown, grpcio, wheel, protobuf, werkzeug, tensorboard, tensorflow-estimator, wrapt, keras-preprocessing, astor, h5py, keras-applications, gast, termcolor, tensorflow-gpu\n"
     ]
    },
    {
     "name": "stderr",
     "output_type": "stream",
     "text": [
      "ERROR: astroid 2.2.5 requires typed-ast>=1.3.0; implementation_name == \"cpython\", which is not installed.\n",
      "ERROR: Could not install packages due to an EnvironmentError: [WinError 5] 액세스가 거부되었습니다: 'C:\\\\ProgramData\\\\Anaconda3\\\\Lib\\\\site-packages\\\\six.py'\n",
      "Consider using the `--user` option or check the permissions.\n",
      "\n"
     ]
    },
    {
     "name": "stdout",
     "output_type": "stream",
     "text": [
      "Requirement already satisfied: pillow in c:\\users\\김민석\\appdata\\roaming\\python\\python37\\site-packages (6.1.0)\n",
      "Requirement already satisfied: lxml in c:\\programdata\\anaconda3\\lib\\site-packages (4.3.2)\n",
      "Requirement already satisfied: Cython in c:\\programdata\\anaconda3\\lib\\site-packages (0.29.6)\n",
      "Requirement already satisfied: contextlib2 in c:\\programdata\\anaconda3\\lib\\site-packages (0.5.5)\n",
      "Requirement already satisfied: jupyter in c:\\programdata\\anaconda3\\lib\\site-packages (1.0.0)\n",
      "Requirement already satisfied: qtconsole in c:\\programdata\\anaconda3\\lib\\site-packages (from jupyter) (4.4.3)\n",
      "Requirement already satisfied: notebook in c:\\programdata\\anaconda3\\lib\\site-packages (from jupyter) (5.7.8)\n",
      "Requirement already satisfied: jupyter-console in c:\\programdata\\anaconda3\\lib\\site-packages (from jupyter) (6.0.0)\n",
      "Requirement already satisfied: ipywidgets in c:\\programdata\\anaconda3\\lib\\site-packages (from jupyter) (7.4.2)\n",
      "Requirement already satisfied: ipykernel in c:\\programdata\\anaconda3\\lib\\site-packages (from jupyter) (5.1.0)\n",
      "Requirement already satisfied: nbconvert in c:\\programdata\\anaconda3\\lib\\site-packages (from jupyter) (5.4.1)\n",
      "Requirement already satisfied: traitlets in c:\\programdata\\anaconda3\\lib\\site-packages (from qtconsole->jupyter) (4.3.2)\n",
      "Requirement already satisfied: ipython_genutils in c:\\programdata\\anaconda3\\lib\\site-packages (from qtconsole->jupyter) (0.2.0)\n",
      "Requirement already satisfied: jupyter_core in c:\\users\\김민석\\appdata\\roaming\\python\\python37\\site-packages (from qtconsole->jupyter) (4.5.0)\n",
      "Requirement already satisfied: jupyter_client>=4.1 in c:\\programdata\\anaconda3\\lib\\site-packages (from qtconsole->jupyter) (5.2.4)\n",
      "Requirement already satisfied: pygments in c:\\programdata\\anaconda3\\lib\\site-packages (from qtconsole->jupyter) (2.3.1)\n",
      "Requirement already satisfied: nbformat in c:\\users\\김민석\\appdata\\roaming\\python\\python37\\site-packages (from notebook->jupyter) (4.4.0)\n",
      "Requirement already satisfied: tornado<7,>=4.1 in c:\\programdata\\anaconda3\\lib\\site-packages (from notebook->jupyter) (6.0.2)\n",
      "Requirement already satisfied: pyzmq>=17 in c:\\programdata\\anaconda3\\lib\\site-packages (from notebook->jupyter) (18.0.0)\n",
      "Requirement already satisfied: prometheus-client in c:\\programdata\\anaconda3\\lib\\site-packages (from notebook->jupyter) (0.6.0)\n",
      "Requirement already satisfied: terminado>=0.8.1 in c:\\programdata\\anaconda3\\lib\\site-packages (from notebook->jupyter) (0.8.1)\n",
      "Requirement already satisfied: jinja2 in c:\\programdata\\anaconda3\\lib\\site-packages (from notebook->jupyter) (2.10)\n",
      "Requirement already satisfied: Send2Trash in c:\\programdata\\anaconda3\\lib\\site-packages (from notebook->jupyter) (1.5.0)\n",
      "Requirement already satisfied: ipython in c:\\programdata\\anaconda3\\lib\\site-packages (from jupyter-console->jupyter) (7.4.0)\n",
      "Requirement already satisfied: prompt_toolkit<2.1.0,>=2.0.0 in c:\\programdata\\anaconda3\\lib\\site-packages (from jupyter-console->jupyter) (2.0.9)\n",
      "Requirement already satisfied: widgetsnbextension~=3.4.0 in c:\\programdata\\anaconda3\\lib\\site-packages (from ipywidgets->jupyter) (3.4.2)\n",
      "Requirement already satisfied: mistune>=0.8.1 in c:\\programdata\\anaconda3\\lib\\site-packages (from nbconvert->jupyter) (0.8.4)\n",
      "Requirement already satisfied: entrypoints>=0.2.2 in c:\\programdata\\anaconda3\\lib\\site-packages (from nbconvert->jupyter) (0.3)\n",
      "Requirement already satisfied: bleach in c:\\programdata\\anaconda3\\lib\\site-packages (from nbconvert->jupyter) (3.1.0)\n",
      "Requirement already satisfied: pandocfilters>=1.4.1 in c:\\programdata\\anaconda3\\lib\\site-packages (from nbconvert->jupyter) (1.4.2)\n",
      "Requirement already satisfied: testpath in c:\\programdata\\anaconda3\\lib\\site-packages (from nbconvert->jupyter) (0.4.2)\n",
      "Requirement already satisfied: defusedxml in c:\\programdata\\anaconda3\\lib\\site-packages (from nbconvert->jupyter) (0.5.0)\n",
      "Requirement already satisfied: decorator in c:\\programdata\\anaconda3\\lib\\site-packages (from traitlets->qtconsole->jupyter) (4.4.0)\n",
      "Requirement already satisfied: six in c:\\users\\김민석\\appdata\\roaming\\python\\python37\\site-packages (from traitlets->qtconsole->jupyter) (1.12.0)\n",
      "Requirement already satisfied: python-dateutil>=2.1 in c:\\programdata\\anaconda3\\lib\\site-packages (from jupyter_client>=4.1->qtconsole->jupyter) (2.8.0)\n",
      "Requirement already satisfied: jsonschema!=2.5.0,>=2.4 in c:\\users\\김민석\\appdata\\roaming\\python\\python37\\site-packages (from nbformat->notebook->jupyter) (3.0.1)\n",
      "Requirement already satisfied: MarkupSafe>=0.23 in c:\\programdata\\anaconda3\\lib\\site-packages (from jinja2->notebook->jupyter) (1.1.1)\n",
      "Requirement already satisfied: backcall in c:\\programdata\\anaconda3\\lib\\site-packages (from ipython->jupyter-console->jupyter) (0.1.0)\n",
      "Requirement already satisfied: colorama; sys_platform == \"win32\" in c:\\programdata\\anaconda3\\lib\\site-packages (from ipython->jupyter-console->jupyter) (0.4.1)\n",
      "Requirement already satisfied: jedi>=0.10 in c:\\programdata\\anaconda3\\lib\\site-packages (from ipython->jupyter-console->jupyter) (0.13.3)\n",
      "Requirement already satisfied: setuptools>=18.5 in c:\\users\\김민석\\appdata\\roaming\\python\\python37\\site-packages (from ipython->jupyter-console->jupyter) (41.0.1)\n",
      "Requirement already satisfied: pickleshare in c:\\programdata\\anaconda3\\lib\\site-packages (from ipython->jupyter-console->jupyter) (0.7.5)\n",
      "Requirement already satisfied: wcwidth in c:\\programdata\\anaconda3\\lib\\site-packages (from prompt_toolkit<2.1.0,>=2.0.0->jupyter-console->jupyter) (0.1.7)\n",
      "Requirement already satisfied: webencodings in c:\\programdata\\anaconda3\\lib\\site-packages (from bleach->nbconvert->jupyter) (0.5.1)\n",
      "Requirement already satisfied: attrs>=17.4.0 in c:\\users\\김민석\\appdata\\roaming\\python\\python37\\site-packages (from jsonschema!=2.5.0,>=2.4->nbformat->notebook->jupyter) (19.1.0)\n",
      "Requirement already satisfied: pyrsistent>=0.14.0 in c:\\users\\김민석\\appdata\\roaming\\python\\python37\\site-packages (from jsonschema!=2.5.0,>=2.4->nbformat->notebook->jupyter) (0.15.2)\n",
      "Requirement already satisfied: parso>=0.3.0 in c:\\programdata\\anaconda3\\lib\\site-packages (from jedi>=0.10->ipython->jupyter-console->jupyter) (0.3.4)\n",
      "Requirement already satisfied: matplotlib in c:\\programdata\\anaconda3\\lib\\site-packages (3.0.3)\n",
      "Requirement already satisfied: numpy>=1.10.0 in c:\\users\\김민석\\appdata\\roaming\\python\\python37\\site-packages (from matplotlib) (1.16.4)\n",
      "Requirement already satisfied: cycler>=0.10 in c:\\programdata\\anaconda3\\lib\\site-packages (from matplotlib) (0.10.0)\n",
      "Requirement already satisfied: kiwisolver>=1.0.1 in c:\\programdata\\anaconda3\\lib\\site-packages (from matplotlib) (1.0.1)\n",
      "Requirement already satisfied: pyparsing!=2.0.4,!=2.1.2,!=2.1.6,>=2.0.1 in c:\\programdata\\anaconda3\\lib\\site-packages (from matplotlib) (2.3.1)\n",
      "Requirement already satisfied: python-dateutil>=2.1 in c:\\programdata\\anaconda3\\lib\\site-packages (from matplotlib) (2.8.0)\n",
      "Requirement already satisfied: six in c:\\users\\김민석\\appdata\\roaming\\python\\python37\\site-packages (from cycler>=0.10->matplotlib) (1.12.0)\n",
      "Requirement already satisfied: setuptools in c:\\users\\김민석\\appdata\\roaming\\python\\python37\\site-packages (from kiwisolver>=1.0.1->matplotlib) (41.0.1)\n",
      "Requirement already satisfied: pandas in c:\\programdata\\anaconda3\\lib\\site-packages (0.24.2)\n",
      "Requirement already satisfied: numpy>=1.12.0 in c:\\users\\김민석\\appdata\\roaming\\python\\python37\\site-packages (from pandas) (1.16.4)\n",
      "Requirement already satisfied: pytz>=2011k in c:\\programdata\\anaconda3\\lib\\site-packages (from pandas) (2018.9)\n",
      "Requirement already satisfied: python-dateutil>=2.5.0 in c:\\programdata\\anaconda3\\lib\\site-packages (from pandas) (2.8.0)\n",
      "Requirement already satisfied: six>=1.5 in c:\\users\\김민석\\appdata\\roaming\\python\\python37\\site-packages (from python-dateutil>=2.5.0->pandas) (1.12.0)\n",
      "Requirement already satisfied: opencv-python in c:\\programdata\\anaconda3\\lib\\site-packages (4.1.0.25)\n",
      "Requirement already satisfied: numpy>=1.14.5 in c:\\users\\김민석\\appdata\\roaming\\python\\python37\\site-packages (from opencv-python) (1.16.4)\n"
     ]
    }
   ],
   "source": [
    "!conda install -c anaconda protobuf\n",
    "!pip install --ignore-installed --upgrade tensorflow-gpu\n",
    "!pip install pillow\n",
    "!pip install lxml\n",
    "!pip install Cython\n",
    "!pip install contextlib2\n",
    "!pip install jupyter\n",
    "!pip install matplotlib\n",
    "!pip install pandas\n",
    "!pip install opencv-python"
   ]
  },
  {
   "cell_type": "code",
   "execution_count": 1,
   "metadata": {},
   "outputs": [],
   "source": [
    "!protoc --python_out=. .\\object_detection\\protos\\anchor_generator.proto .\\object_detection\\protos\\argmax_matcher.proto .\\object_detection\\protos\\bipartite_matcher.proto .\\object_detection\\protos\\box_coder.proto .\\object_detection\\protos\\box_predictor.proto .\\object_detection\\protos\\eval.proto .\\object_detection\\protos\\faster_rcnn.proto .\\object_detection\\protos\\faster_rcnn_box_coder.proto .\\object_detection\\protos\\grid_anchor_generator.proto .\\object_detection\\protos\\hyperparams.proto .\\object_detection\\protos\\image_resizer.proto .\\object_detection\\protos\\input_reader.proto .\\object_detection\\protos\\losses.proto .\\object_detection\\protos\\matcher.proto .\\object_detection\\protos\\mean_stddev_box_coder.proto .\\object_detection\\protos\\model.proto .\\object_detection\\protos\\optimizer.proto .\\object_detection\\protos\\pipeline.proto .\\object_detection\\protos\\post_processing.proto .\\object_detection\\protos\\preprocessor.proto .\\object_detection\\protos\\region_similarity_calculator.proto .\\object_detection\\protos\\square_box_coder.proto .\\object_detection\\protos\\ssd.proto .\\object_detection\\protos\\ssd_anchor_generator.proto .\\object_detection\\protos\\string_int_label_map.proto .\\object_detection\\protos\\train.proto .\\object_detection\\protos\\keypoint_box_coder.proto .\\object_detection\\protos\\multiscale_anchor_generator.proto .\\object_detection\\protos\\graph_rewriter.proto .\\object_detection\\protos\\calibration.proto .\\object_detection\\protos\\flexible_grid_anchor_generator.proto"
   ]
  },
  {
   "cell_type": "code",
   "execution_count": 7,
   "metadata": {},
   "outputs": [
    {
     "name": "stdout",
     "output_type": "stream",
     "text": [
      "Successfully created the TFRecords: C:\\Users\\김민석\\Desktop\\Railway_Obstacle_Detection\\./object_detection/train.record\n"
     ]
    },
    {
     "name": "stderr",
     "output_type": "stream",
     "text": [
      "WARNING: Logging before flag parsing goes to stderr.\n",
      "W0807 15:41:05.836711  8200 deprecation_wrapper.py:119] From ./object_detection/generate_tfrecord.py:106: The name tf.app.run is deprecated. Please use tf.compat.v1.app.run instead.\n",
      "\n",
      "W0807 15:41:05.838739  8200 deprecation_wrapper.py:119] From ./object_detection/generate_tfrecord.py:92: The name tf.python_io.TFRecordWriter is deprecated. Please use tf.io.TFRecordWriter instead.\n",
      "\n",
      "W0807 15:41:05.995347  8200 deprecation_wrapper.py:119] From ./object_detection/generate_tfrecord.py:51: The name tf.gfile.GFile is deprecated. Please use tf.io.gfile.GFile instead.\n",
      "\n"
     ]
    },
    {
     "name": "stdout",
     "output_type": "stream",
     "text": [
      "Successfully created the TFRecords: C:\\Users\\김민석\\Desktop\\Railway_Obstacle_Detection\\./object_detection/test.record\n"
     ]
    },
    {
     "name": "stderr",
     "output_type": "stream",
     "text": [
      "WARNING: Logging before flag parsing goes to stderr.\n",
      "W0807 15:41:09.538662 10820 deprecation_wrapper.py:119] From ./object_detection/generate_tfrecord.py:106: The name tf.app.run is deprecated. Please use tf.compat.v1.app.run instead.\n",
      "\n",
      "W0807 15:41:09.539659 10820 deprecation_wrapper.py:119] From ./object_detection/generate_tfrecord.py:92: The name tf.python_io.TFRecordWriter is deprecated. Please use tf.io.TFRecordWriter instead.\n",
      "\n",
      "W0807 15:41:09.606480 10820 deprecation_wrapper.py:119] From ./object_detection/generate_tfrecord.py:51: The name tf.gfile.GFile is deprecated. Please use tf.io.gfile.GFile instead.\n",
      "\n"
     ]
    }
   ],
   "source": [
    "!python ./object_detection/generate_tfrecord.py --csv_input=./object_detection/images/train_labels.csv --image_dir=./object_detection/images/train --output_path=./object_detection/train.record\n",
    "!python ./object_detection/generate_tfrecord.py --csv_input=./object_detection/images/test_labels.csv --image_dir=./object_detection/images/test --output_path=./object_detection/test.record"
   ]
  },
  {
   "cell_type": "markdown",
   "metadata": {},
   "source": [
    "# Training"
   ]
  },
  {
   "cell_type": "code",
   "execution_count": 1,
   "metadata": {
    "scrolled": true
   },
   "outputs": [
    {
     "name": "stderr",
     "output_type": "stream",
     "text": [
      "WARNING: Logging before flag parsing goes to stderr.\n",
      "W0807 16:48:52.341126 17288 deprecation_wrapper.py:119] From C:\\Users\\김민석\\Desktop\\Railway_Obstacle_Detection\\object_detection\\utils\\label_map_util.py:131: The name tf.gfile.GFile is deprecated. Please use tf.io.gfile.GFile instead.\n",
      "\n"
     ]
    }
   ],
   "source": [
    "!python  ./object_detection/train.py --logtostderr --train_dir= ./object_detection/training/ --pipeline_config_path= ./object_detection/training/faster_rcnn_inception_v2_pets.config"
   ]
  },
  {
   "cell_type": "code",
   "execution_count": 1,
   "metadata": {},
   "outputs": [
    {
     "name": "stderr",
     "output_type": "stream",
     "text": [
      "./object_detection/Object_detection_image.py:29: DeprecationWarning: URLopener style of invoking requests is deprecated. Use newer urlopen functions/methods\n",
      "  from object_detection.utils import label_map_util\n",
      "WARNING: Logging before flag parsing goes to stderr.\n",
      "W0807 00:29:37.305036  7976 deprecation_wrapper.py:119] From C:\\tensorflow1\\models\\research\\object_detection\\__init__.py:83: The name tf.GraphDef is deprecated. Please use tf.compat.v1.GraphDef instead.\n",
      "\n",
      "W0807 00:29:37.305036  7976 deprecation_wrapper.py:119] From C:\\tensorflow1\\models\\research\\object_detection\\__init__.py:84: The name tf.gfile.GFile is deprecated. Please use tf.io.gfile.GFile instead.\n",
      "\n"
     ]
    }
   ],
   "source": [
    "!python ./object_detection/Object_detection_image.py"
   ]
  },
  {
   "cell_type": "code",
   "execution_count": null,
   "metadata": {},
   "outputs": [],
   "source": []
  }
 ],
 "metadata": {
  "kernelspec": {
   "display_name": "Python 3",
   "language": "python",
   "name": "python3"
  },
  "language_info": {
   "codemirror_mode": {
    "name": "ipython",
    "version": 3
   },
   "file_extension": ".py",
   "mimetype": "text/x-python",
   "name": "python",
   "nbconvert_exporter": "python",
   "pygments_lexer": "ipython3",
   "version": "3.7.3"
  }
 },
 "nbformat": 4,
 "nbformat_minor": 2
}
