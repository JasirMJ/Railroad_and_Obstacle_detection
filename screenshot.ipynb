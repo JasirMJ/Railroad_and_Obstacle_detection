{
 "cells": [
  {
   "cell_type": "code",
   "execution_count": 27,
   "metadata": {},
   "outputs": [],
   "source": [
    "from PIL import Image\n",
    "import numpy as np\n",
    "import cv2"
   ]
  },
  {
   "cell_type": "code",
   "execution_count": 28,
   "metadata": {},
   "outputs": [],
   "source": [
    "import matplotlib.pyplot as plt\n",
    "from matplotlib.image import imread"
   ]
  },
  {
   "cell_type": "code",
   "execution_count": 29,
   "metadata": {},
   "outputs": [],
   "source": [
    "import win32gui, win32ui, win32con, win32api"
   ]
  },
  {
   "cell_type": "code",
   "execution_count": 30,
   "metadata": {},
   "outputs": [],
   "source": [
    "def screenshot(region=None):\n",
    "    hwnd = 0 \n",
    "# window ID , '0' means the activated window \n",
    "#get Divice Context\n",
    "    hwndDC = win32gui.GetWindowDC(hwnd)\n",
    "#get mfcDC\n",
    "    mfcDC = win32ui.CreateDCFromHandle(hwndDC)\n",
    "    saveDC = mfcDC.CreateCompatibleDC()\n",
    "# create bigmap for picture saving\n",
    "    saveBitMap = win32ui.CreateBitmap()\n",
    "# get Moniter info\n",
    "    MoniterDev = win32api.EnumDisplayMonitors(None, None)\n",
    "   # print w,h　　　#picture size \n",
    "    if region:\n",
    "        left,top,x2,y2 = region\n",
    "        w = x2 - left + 1\n",
    "        h = y2 - top + 1\n",
    "    else:\n",
    "\n",
    "        w = MoniterDev[0][2][2]\n",
    "        h = MoniterDev[0][2][3]\n",
    "\n",
    "# create bitmap space\n",
    "    saveBitMap.CreateCompatibleBitmap(mfcDC, w, h)\n",
    "# save the screenshot to saveBitmap\n",
    "    saveDC.SelectObject(saveBitMap)\n",
    "# from topleft（0，0）to bottomright（w，h）\n",
    "    img = saveDC.BitBlt((0, 0), (w, h), mfcDC, (0, 0), win32con.SRCCOPY)\n",
    "#saveBitMap.SaveBitmapFile(saveDC, filename) #이미지파일 저장인데 지금 필요없음\n",
    "    signedIntsArray = saveBitMap.GetBitmapBits(True)\n",
    "    img = np.fromstring(signedIntsArray, dtype='uint8')\n",
    "    img.shape = (h,w,4)\n",
    "    img = cv2.cvtColor(img, cv2.COLOR_BGRA2RGB) \n",
    "    return img"
   ]
  },
  {
   "cell_type": "code",
   "execution_count": 31,
   "metadata": {},
   "outputs": [
    {
     "name": "stderr",
     "output_type": "stream",
     "text": [
      "C:\\ProgramData\\Anaconda3\\lib\\site-packages\\ipykernel_launcher.py:31: DeprecationWarning: The binary mode of fromstring is deprecated, as it behaves surprisingly on unicode inputs. Use frombuffer instead\n"
     ]
    }
   ],
   "source": [
    "img1 = screenshot((10, 10, 100, 100))\n",
    "img2 = screenshot()"
   ]
  },
  {
   "cell_type": "code",
   "execution_count": 34,
   "metadata": {},
   "outputs": [
    {
     "data": {
      "text/plain": [
       "<matplotlib.image.AxesImage at 0x19cbf250be0>"
      ]
     },
     "execution_count": 34,
     "metadata": {},
     "output_type": "execute_result"
    },
    {
     "data": {
      "image/png": "[encoded data removed]",
      "text/plain": [
       "<Figure size 432x288 with 1 Axes>"
      ]
     },
     "metadata": {
      "needs_background": "light"
     },
     "output_type": "display_data"
    }
   ],
   "source": [
    "plt.imshow(img1)\n",
    "plt.imshow(img2)"
   ]
  },
  {
   "cell_type": "raw",
   "metadata": {},
   "source": []
  },
  {
   "cell_type": "code",
   "execution_count": null,
   "metadata": {},
   "outputs": [],
   "source": []
  },
  {
   "cell_type": "code",
   "execution_count": null,
   "metadata": {},
   "outputs": [],
   "source": []
  },
  {
   "cell_type": "code",
   "execution_count": null,
   "metadata": {},
   "outputs": [],
   "source": []
  }
 ],
 "metadata": {
  "kernelspec": {
   "display_name": "Python 3",
   "language": "python",
   "name": "python3"
  },
  "language_info": {
   "codemirror_mode": {
    "name": "ipython",
    "version": 3
   },
   "file_extension": ".py",
   "mimetype": "text/x-python",
   "name": "python",
   "nbconvert_exporter": "python",
   "pygments_lexer": "ipython3",
   "version": "3.7.3"
  }
 },
 "nbformat": 4,
 "nbformat_minor": 2
}
